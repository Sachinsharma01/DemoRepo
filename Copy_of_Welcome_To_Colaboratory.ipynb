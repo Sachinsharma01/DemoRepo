{
  "nbformat": 4,
  "nbformat_minor": 0,
  "metadata": {
    "colab": {
      "name": "Copy of Welcome To Colaboratory",
      "provenance": [],
      "collapsed_sections": [],
      "include_colab_link": true
    },
    "kernelspec": {
      "display_name": "Python 3",
      "name": "python3"
    }
  },
  "cells": [
    {
      "cell_type": "markdown",
      "metadata": {
        "id": "view-in-github",
        "colab_type": "text"
      },
      "source": [
        "<a href=\"https://colab.research.google.com/github/Sachinsharma01/DemoRepo/blob/main/Copy_of_Welcome_To_Colaboratory.ipynb\" target=\"_parent\"><img src=\"https://colab.research.google.com/assets/colab-badge.svg\" alt=\"Open In Colab\"/></a>"
      ]
    },
    {
      "cell_type": "markdown",
      "metadata": {
        "id": "nsAjQa-kXrX7"
      },
      "source": [
        "DCS Assignment 3"
      ]
    },
    {
      "cell_type": "code",
      "metadata": {
        "id": "SMEA8PUGYO2t"
      },
      "source": [
        "import numpy as np"
      ],
      "execution_count": 3,
      "outputs": []
    },
    {
      "cell_type": "code",
      "metadata": {
        "colab": {
          "base_uri": "https://localhost:8080/"
        },
        "id": "ToCe_m7HZNxc",
        "outputId": "361663c3-b7b5-4888-b9e8-eacfe93ac151"
      },
      "source": [
        "arr = np.array([1,2,3,4,5])  # 1-D array\n",
        "arr1 = np.array([[1,2,3,4,5,],[5,6,9,8,7]])  # 2-D array\n",
        "arr2 = np.array([[1,2,3,4,5,],[5,6,9,8,7],[10,11,12,13,14,15]])  # 3-D array"
      ],
      "execution_count": null,
      "outputs": [
        {
          "output_type": "stream",
          "text": [
            "/usr/local/lib/python3.7/dist-packages/ipykernel_launcher.py:3: VisibleDeprecationWarning: Creating an ndarray from ragged nested sequences (which is a list-or-tuple of lists-or-tuples-or ndarrays with different lengths or shapes) is deprecated. If you meant to do this, you must specify 'dtype=object' when creating the ndarray\n",
            "  This is separate from the ipykernel package so we can avoid doing imports until\n"
          ],
          "name": "stderr"
        }
      ]
    },
    {
      "cell_type": "code",
      "metadata": {
        "colab": {
          "base_uri": "https://localhost:8080/"
        },
        "id": "i1X5KR4Baa_S",
        "outputId": "0abe5977-0031-4a6e-9704-bc97d4db73c3"
      },
      "source": [
        "# Shape\n",
        "print(arr.shape)\n",
        "print(arr1.shape)\n",
        "print(arr2.shape)"
      ],
      "execution_count": null,
      "outputs": [
        {
          "output_type": "stream",
          "text": [
            "(5,)\n",
            "(2, 5)\n",
            "(3,)\n"
          ],
          "name": "stdout"
        }
      ]
    },
    {
      "cell_type": "code",
      "metadata": {
        "colab": {
          "base_uri": "https://localhost:8080/"
        },
        "id": "Z4EpiNs5a0ne",
        "outputId": "b1f8747c-58e5-4f85-c5aa-8d20787bc80a"
      },
      "source": [
        "# Number of Dimension\n",
        "print(arr.ndim)\n",
        "print(arr1.ndim)\n",
        "print(arr2.ndim)"
      ],
      "execution_count": null,
      "outputs": [
        {
          "output_type": "stream",
          "text": [
            "1\n",
            "2\n",
            "1\n"
          ],
          "name": "stdout"
        }
      ]
    },
    {
      "cell_type": "code",
      "metadata": {
        "colab": {
          "base_uri": "https://localhost:8080/"
        },
        "id": "UNyEluCKa86j",
        "outputId": "aacd54c9-f5bc-43e4-eed9-1d41b058d616"
      },
      "source": [
        "# Data type\n",
        "# Shape\n",
        "print(arr.dtype)\n",
        "print(arr1.dtype)\n",
        "print(arr2.dtype)"
      ],
      "execution_count": null,
      "outputs": [
        {
          "output_type": "stream",
          "text": [
            "int64\n",
            "int64\n",
            "object\n"
          ],
          "name": "stdout"
        }
      ]
    },
    {
      "cell_type": "code",
      "metadata": {
        "colab": {
          "base_uri": "https://localhost:8080/"
        },
        "id": "f_NK8M0bbpoF",
        "outputId": "0f2ad80c-b3e9-4113-a8fb-d7a90ed2ea9d"
      },
      "source": [
        "# Size\n",
        "# Shape\n",
        "print(arr.size)\n",
        "print(arr1.size)\n",
        "print(arr2.size)"
      ],
      "execution_count": null,
      "outputs": [
        {
          "output_type": "stream",
          "text": [
            "5\n",
            "10\n",
            "3\n"
          ],
          "name": "stdout"
        }
      ]
    },
    {
      "cell_type": "code",
      "metadata": {
        "id": "s07Im5y5cABe"
      },
      "source": [
        "import pandas as pd"
      ],
      "execution_count": null,
      "outputs": []
    },
    {
      "cell_type": "code",
      "metadata": {
        "colab": {
          "base_uri": "https://localhost:8080/"
        },
        "id": "FbtelNWPcW1E",
        "outputId": "c8171809-5e6e-4f9e-c7d4-1263f5d73cb9"
      },
      "source": [
        "d = {'Column1' : arr, 'Column2' : arr1[0], 'Column3' : arr2[0]}\n",
        "dataFrame = pd.DataFrame(data=d)\n",
        "print(dataFrame)"
      ],
      "execution_count": null,
      "outputs": [
        {
          "output_type": "stream",
          "text": [
            "   Column1  Column2  Column3\n",
            "0        1        1        1\n",
            "1        2        2        2\n",
            "2        3        3        3\n",
            "3        4        4        4\n",
            "4        5        5        5\n"
          ],
          "name": "stdout"
        }
      ]
    },
    {
      "cell_type": "code",
      "metadata": {
        "colab": {
          "base_uri": "https://localhost:8080/"
        },
        "id": "4RBj1yq8b8-2",
        "outputId": "757cafd5-037b-4956-e0d3-14fc64f42e2c"
      },
      "source": [
        "arr3 =np.ones((10,2))\n",
        "print(arr3)"
      ],
      "execution_count": null,
      "outputs": [
        {
          "output_type": "stream",
          "text": [
            "[[1. 1.]\n",
            " [1. 1.]\n",
            " [1. 1.]\n",
            " [1. 1.]\n",
            " [1. 1.]\n",
            " [1. 1.]\n",
            " [1. 1.]\n",
            " [1. 1.]\n",
            " [1. 1.]\n",
            " [1. 1.]]\n"
          ],
          "name": "stdout"
        }
      ]
    },
    {
      "cell_type": "code",
      "metadata": {
        "colab": {
          "base_uri": "https://localhost:8080/"
        },
        "id": "rTQBDnvidi5E",
        "outputId": "c49fcdb2-8bed-478b-c692-f817fc27b639"
      },
      "source": [
        "arr4 = np.zeros((7,2,3))\n",
        "print(arr4)"
      ],
      "execution_count": null,
      "outputs": [
        {
          "output_type": "stream",
          "text": [
            "[[[0. 0. 0.]\n",
            "  [0. 0. 0.]]\n",
            "\n",
            " [[0. 0. 0.]\n",
            "  [0. 0. 0.]]\n",
            "\n",
            " [[0. 0. 0.]\n",
            "  [0. 0. 0.]]\n",
            "\n",
            " [[0. 0. 0.]\n",
            "  [0. 0. 0.]]\n",
            "\n",
            " [[0. 0. 0.]\n",
            "  [0. 0. 0.]]\n",
            "\n",
            " [[0. 0. 0.]\n",
            "  [0. 0. 0.]]\n",
            "\n",
            " [[0. 0. 0.]\n",
            "  [0. 0. 0.]]]\n"
          ],
          "name": "stdout"
        }
      ]
    },
    {
      "cell_type": "code",
      "metadata": {
        "colab": {
          "base_uri": "https://localhost:8080/"
        },
        "id": "tYFUxMKqdxIX",
        "outputId": "a6153cef-b3da-4712-9043-466b4754b333"
      },
      "source": [
        "arr5 = np.arange(start=0,stop=100,step=3)\n",
        "print(arr5)"
      ],
      "execution_count": null,
      "outputs": [
        {
          "output_type": "stream",
          "text": [
            "[ 0  3  6  9 12 15 18 21 24 27 30 33 36 39 42 45 48 51 54 57 60 63 66 69\n",
            " 72 75 78 81 84 87 90 93 96 99]\n"
          ],
          "name": "stdout"
        }
      ]
    },
    {
      "cell_type": "code",
      "metadata": {
        "colab": {
          "base_uri": "https://localhost:8080/"
        },
        "id": "ndjFlr_neOL8",
        "outputId": "eb09bcd3-0a69-4481-a660-4b6b178d488e"
      },
      "source": [
        "arr6 = np.random.randint(10,size=(7,2))\n",
        "print(arr6)"
      ],
      "execution_count": null,
      "outputs": [
        {
          "output_type": "stream",
          "text": [
            "[[0 4]\n",
            " [8 3]\n",
            " [5 1]\n",
            " [7 3]\n",
            " [5 0]\n",
            " [5 0]\n",
            " [7 6]]\n"
          ],
          "name": "stdout"
        }
      ]
    },
    {
      "cell_type": "code",
      "metadata": {
        "colab": {
          "base_uri": "https://localhost:8080/"
        },
        "id": "Q_0NiBh2fDIk",
        "outputId": "818a1c07-c636-4140-ec6c-f68576da5d52"
      },
      "source": [
        "arr7 = np.random.uniform(low=0,high=1,size=(3,5))\n",
        "print(arr7)"
      ],
      "execution_count": null,
      "outputs": [
        {
          "output_type": "stream",
          "text": [
            "[[0.99978276 0.26840177 0.81464405 0.38651723 0.24104543]\n",
            " [0.11874792 0.39873138 0.27917233 0.67705842 0.90447798]\n",
            " [0.54624954 0.66694123 0.6866566  0.15055473 0.02887385]]\n"
          ],
          "name": "stdout"
        }
      ]
    },
    {
      "cell_type": "code",
      "metadata": {
        "colab": {
          "base_uri": "https://localhost:8080/"
        },
        "id": "DEUcg6kifdHt",
        "outputId": "5fffd51b-f963-4457-b8c7-0f3ef0668a08"
      },
      "source": [
        "np.random.seed(42)\n",
        "arr8 = np.random.randint(10,size=(4,6))\n",
        "print(arr8)"
      ],
      "execution_count": null,
      "outputs": [
        {
          "output_type": "stream",
          "text": [
            "[[6 3 7 4 6 9]\n",
            " [2 6 7 4 3 7]\n",
            " [7 2 5 4 1 7]\n",
            " [5 1 4 0 9 5]]\n"
          ],
          "name": "stdout"
        }
      ]
    },
    {
      "cell_type": "code",
      "metadata": {
        "colab": {
          "base_uri": "https://localhost:8080/"
        },
        "id": "ixQ3G9R_hEkU",
        "outputId": "0d1bf58b-7d1d-42c0-8960-1b47f9b91a43"
      },
      "source": [
        "arr8 = np.random.randint(10,size=(3,7))\n",
        "print(np.unique(arr8))"
      ],
      "execution_count": null,
      "outputs": [
        {
          "output_type": "stream",
          "text": [
            "[0 1 2 4 6 7 8 9]\n"
          ],
          "name": "stdout"
        }
      ]
    },
    {
      "cell_type": "code",
      "metadata": {
        "colab": {
          "base_uri": "https://localhost:8080/"
        },
        "id": "DTkYjlOChsGd",
        "outputId": "284b5d6c-134f-461b-ccd7-5804ea33bad7"
      },
      "source": [
        "print(arr8[0])"
      ],
      "execution_count": null,
      "outputs": [
        {
          "output_type": "stream",
          "text": [
            "[8 7 4 1 4 7 9]\n"
          ],
          "name": "stdout"
        }
      ]
    },
    {
      "cell_type": "code",
      "metadata": {
        "colab": {
          "base_uri": "https://localhost:8080/"
        },
        "id": "sGKcKpvwhycr",
        "outputId": "db992fb6-dc48-4c5f-ec2c-46a4dbea09b8"
      },
      "source": [
        "print(arr8[0],arr8[1])"
      ],
      "execution_count": null,
      "outputs": [
        {
          "output_type": "stream",
          "text": [
            "[8 7 4 1 4 7 9] [8 8 0 8 6 8 7]\n"
          ],
          "name": "stdout"
        }
      ]
    },
    {
      "cell_type": "code",
      "metadata": {
        "colab": {
          "base_uri": "https://localhost:8080/"
        },
        "id": "v49ngXGah7yu",
        "outputId": "2a67c5ce-fcee-41be-ceea-12cf163088c6"
      },
      "source": [
        "print(arr8[0][:2],\"\\n\",arr8[1][:2])"
      ],
      "execution_count": null,
      "outputs": [
        {
          "output_type": "stream",
          "text": [
            "[8 7] \n",
            " [8 8]\n"
          ],
          "name": "stdout"
        }
      ]
    },
    {
      "cell_type": "code",
      "metadata": {
        "colab": {
          "base_uri": "https://localhost:8080/"
        },
        "id": "i5Xn6CJViMEc",
        "outputId": "d828655b-4ac6-472e-d2ed-03622d8b0bd7"
      },
      "source": [
        "a = np.random.randint(10,size=(3,5))\n",
        "b = np.zeros(shape=(3,5))\n",
        "c = a + b\n",
        "print(a + b)"
      ],
      "execution_count": 6,
      "outputs": [
        {
          "output_type": "stream",
          "text": [
            "[[8. 7. 6. 1. 3.]\n",
            " [7. 7. 6. 9. 0.]\n",
            " [9. 8. 7. 8. 5.]]\n"
          ],
          "name": "stdout"
        }
      ]
    },
    {
      "cell_type": "code",
      "metadata": {
        "colab": {
          "base_uri": "https://localhost:8080/"
        },
        "id": "_PNfkMHCi9we",
        "outputId": "05efd057-159c-49da-bce3-80e54fd03339"
      },
      "source": [
        "arrOnes = np.ones((3,5))\n",
        "d = c - arrOnes\n",
        "print(d)"
      ],
      "execution_count": 8,
      "outputs": [
        {
          "output_type": "stream",
          "text": [
            "[[ 7.  6.  5.  0.  2.]\n",
            " [ 6.  6.  5.  8. -1.]\n",
            " [ 8.  7.  6.  7.  4.]]\n"
          ],
          "name": "stdout"
        }
      ]
    },
    {
      "cell_type": "code",
      "metadata": {
        "colab": {
          "base_uri": "https://localhost:8080/"
        },
        "id": "M43Zc1OYVNiv",
        "outputId": "29d89ea9-9a9c-4d66-b3f5-a8463aea81e1"
      },
      "source": [
        "arre = d * arrOnes\n",
        "print(arre)"
      ],
      "execution_count": 10,
      "outputs": [
        {
          "output_type": "stream",
          "text": [
            "[[ 7.  6.  5.  0.  2.]\n",
            " [ 6.  6.  5.  8. -1.]\n",
            " [ 8.  7.  6.  7.  4.]]\n"
          ],
          "name": "stdout"
        }
      ]
    },
    {
      "cell_type": "code",
      "metadata": {
        "colab": {
          "base_uri": "https://localhost:8080/"
        },
        "id": "7gtW4OEJVZ81",
        "outputId": "d4e4b812-e499-4b11-bb4c-231da098df50"
      },
      "source": [
        "arrd = arre ** 2\n",
        "print(arrd)"
      ],
      "execution_count": 11,
      "outputs": [
        {
          "output_type": "stream",
          "text": [
            "[[49. 36. 25.  0.  4.]\n",
            " [36. 36. 25. 64.  1.]\n",
            " [64. 49. 36. 49. 16.]]\n"
          ],
          "name": "stdout"
        }
      ]
    },
    {
      "cell_type": "code",
      "metadata": {
        "colab": {
          "base_uri": "https://localhost:8080/"
        },
        "id": "Gk8E-QsgV4UV",
        "outputId": "966a5b15-cd28-4faf-cee7-5701a06a7af2"
      },
      "source": [
        "print(np.square(arrd))"
      ],
      "execution_count": 12,
      "outputs": [
        {
          "output_type": "stream",
          "text": [
            "[[2.401e+03 1.296e+03 6.250e+02 0.000e+00 1.600e+01]\n",
            " [1.296e+03 1.296e+03 6.250e+02 4.096e+03 1.000e+00]\n",
            " [4.096e+03 2.401e+03 1.296e+03 2.401e+03 2.560e+02]]\n"
          ],
          "name": "stdout"
        }
      ]
    },
    {
      "cell_type": "code",
      "metadata": {
        "colab": {
          "base_uri": "https://localhost:8080/"
        },
        "id": "-4tcYq-9V890",
        "outputId": "975b3bf5-156f-47c1-fc5e-eaad5f0757af"
      },
      "source": [
        "print(np.mean(arrd))"
      ],
      "execution_count": 13,
      "outputs": [
        {
          "output_type": "stream",
          "text": [
            "32.666666666666664\n"
          ],
          "name": "stdout"
        }
      ]
    },
    {
      "cell_type": "code",
      "metadata": {
        "colab": {
          "base_uri": "https://localhost:8080/"
        },
        "id": "5vT_66A4WC_w",
        "outputId": "df6c5d6f-c50d-4bbf-ff85-9942b260deb9"
      },
      "source": [
        "print(np.max(arrd))"
      ],
      "execution_count": 14,
      "outputs": [
        {
          "output_type": "stream",
          "text": [
            "64.0\n"
          ],
          "name": "stdout"
        }
      ]
    },
    {
      "cell_type": "code",
      "metadata": {
        "colab": {
          "base_uri": "https://localhost:8080/"
        },
        "id": "JAM0dWpBWHbs",
        "outputId": "b49bb926-482b-4cd1-f30e-06f90f1ac2a3"
      },
      "source": [
        "print(np.std(arrd))"
      ],
      "execution_count": 16,
      "outputs": [
        {
          "output_type": "stream",
          "text": [
            "20.1582627117407\n"
          ],
          "name": "stdout"
        }
      ]
    },
    {
      "cell_type": "code",
      "metadata": {
        "colab": {
          "base_uri": "https://localhost:8080/"
        },
        "id": "zeGRdCUBWibI",
        "outputId": "ca31ac77-49e4-41fa-c612-f28ae21b51d9"
      },
      "source": [
        "np.reshape(arrd,(3,5,1))"
      ],
      "execution_count": 17,
      "outputs": [
        {
          "output_type": "execute_result",
          "data": {
            "text/plain": [
              "array([[[49.],\n",
              "        [36.],\n",
              "        [25.],\n",
              "        [ 0.],\n",
              "        [ 4.]],\n",
              "\n",
              "       [[36.],\n",
              "        [36.],\n",
              "        [25.],\n",
              "        [64.],\n",
              "        [ 1.]],\n",
              "\n",
              "       [[64.],\n",
              "        [49.],\n",
              "        [36.],\n",
              "        [49.],\n",
              "        [16.]]])"
            ]
          },
          "metadata": {
            "tags": []
          },
          "execution_count": 17
        }
      ]
    },
    {
      "cell_type": "code",
      "metadata": {
        "id": "x1bw4rZnWqWZ"
      },
      "source": [
        ""
      ],
      "execution_count": null,
      "outputs": []
    },
    {
      "cell_type": "code",
      "metadata": {
        "colab": {
          "base_uri": "https://localhost:8080/"
        },
        "id": "qgHQsEgQXMUn",
        "outputId": "4b17ced2-13de-4af8-8088-22b8e7624780"
      },
      "source": [
        "np.transpose(arrd)"
      ],
      "execution_count": 18,
      "outputs": [
        {
          "output_type": "execute_result",
          "data": {
            "text/plain": [
              "array([[49., 36., 64.],\n",
              "       [36., 36., 49.],\n",
              "       [25., 25., 36.],\n",
              "       [ 0., 64., 49.],\n",
              "       [ 4.,  1., 16.]])"
            ]
          },
          "metadata": {
            "tags": []
          },
          "execution_count": 18
        }
      ]
    },
    {
      "cell_type": "code",
      "metadata": {
        "colab": {
          "base_uri": "https://localhost:8080/"
        },
        "id": "xUZgnEVdXSYB",
        "outputId": "7ae285c3-b0d8-4a05-b206-55e8759faf16"
      },
      "source": [
        "rarr1 = np.random.randint(10,size=(3,3))\n",
        "rarr2 = np.random.randint(10,size=(3,2))\n",
        "print(np.dot(rarr1,rarr2))"
      ],
      "execution_count": 21,
      "outputs": [
        {
          "output_type": "stream",
          "text": [
            "[[ 75 118]\n",
            " [ 81 102]\n",
            " [ 77 105]]\n"
          ],
          "name": "stdout"
        }
      ]
    },
    {
      "cell_type": "code",
      "metadata": {
        "colab": {
          "base_uri": "https://localhost:8080/"
        },
        "id": "L3RFf21qY1iz",
        "outputId": "39f1b76e-0eda-4b4e-d059-66ad414e7842"
      },
      "source": [
        "np.transpose(rarr1)\n",
        "print(np.dot(rarr1,rarr2))"
      ],
      "execution_count": 24,
      "outputs": [
        {
          "output_type": "stream",
          "text": [
            "[[ 75 118]\n",
            " [ 81 102]\n",
            " [ 77 105]]\n"
          ],
          "name": "stdout"
        }
      ]
    },
    {
      "cell_type": "code",
      "metadata": {
        "colab": {
          "base_uri": "https://localhost:8080/"
        },
        "id": "6ijLUJ3fZkRN",
        "outputId": "bdf31a5f-db66-444a-a7f7-84e463cae22a"
      },
      "source": [
        "aa = np.random.randint(10,size=(3,3))\n",
        "bb = np.random.randint(10,size=(3,3))\n",
        "print(aa > bb)"
      ],
      "execution_count": 31,
      "outputs": [
        {
          "output_type": "stream",
          "text": [
            "[[ True  True False]\n",
            " [ True  True  True]\n",
            " [False  True  True]]\n"
          ],
          "name": "stdout"
        }
      ]
    },
    {
      "cell_type": "code",
      "metadata": {
        "colab": {
          "base_uri": "https://localhost:8080/"
        },
        "id": "L8dRaWTSbcPF",
        "outputId": "9f92a964-1ea6-44b4-c6c7-860333449b2e"
      },
      "source": [
        "print(aa[aa > 7])"
      ],
      "execution_count": 32,
      "outputs": [
        {
          "output_type": "stream",
          "text": [
            "[9 9]\n"
          ],
          "name": "stdout"
        }
      ]
    },
    {
      "cell_type": "code",
      "metadata": {
        "colab": {
          "base_uri": "https://localhost:8080/"
        },
        "id": "BdccAw5ybiAu",
        "outputId": "a6225a28-b24b-409b-dccc-8a9f2990a3bd"
      },
      "source": [
        "print(aa == bb)"
      ],
      "execution_count": 33,
      "outputs": [
        {
          "output_type": "stream",
          "text": [
            "[[False False False]\n",
            " [False False False]\n",
            " [ True False False]]\n"
          ],
          "name": "stdout"
        }
      ]
    },
    {
      "cell_type": "code",
      "metadata": {
        "colab": {
          "base_uri": "https://localhost:8080/"
        },
        "id": "lqYOIKAtbmvO",
        "outputId": "bcce27d3-ab71-4c4b-93a4-b9aa5d52bf55"
      },
      "source": [
        "np.sort(aa)"
      ],
      "execution_count": 34,
      "outputs": [
        {
          "output_type": "execute_result",
          "data": {
            "text/plain": [
              "array([[0, 6, 9],\n",
              "       [3, 5, 9],\n",
              "       [2, 5, 6]])"
            ]
          },
          "metadata": {
            "tags": []
          },
          "execution_count": 34
        }
      ]
    },
    {
      "cell_type": "code",
      "metadata": {
        "colab": {
          "base_uri": "https://localhost:8080/"
        },
        "id": "JF7w7BgibpkY",
        "outputId": "653ceab0-b0b9-41c8-a19e-3fd5cd922599"
      },
      "source": [
        "np.argsort(aa)"
      ],
      "execution_count": 36,
      "outputs": [
        {
          "output_type": "execute_result",
          "data": {
            "text/plain": [
              "array([[2, 1, 0],\n",
              "       [0, 1, 2],\n",
              "       [0, 2, 1]])"
            ]
          },
          "metadata": {
            "tags": []
          },
          "execution_count": 36
        }
      ]
    },
    {
      "cell_type": "code",
      "metadata": {
        "colab": {
          "base_uri": "https://localhost:8080/"
        },
        "id": "kxqoN_KscItB",
        "outputId": "3d2e05d0-4927-471a-9219-a8a2441bacf0"
      },
      "source": [
        "print(np.argwhere(aa == np.max(aa)))\n",
        "print(np.argwhere(aa == np.min(aa)))"
      ],
      "execution_count": 39,
      "outputs": [
        {
          "output_type": "stream",
          "text": [
            "[[0 0]\n",
            " [1 2]]\n",
            "[[0 2]]\n"
          ],
          "name": "stdout"
        }
      ]
    },
    {
      "cell_type": "code",
      "metadata": {
        "colab": {
          "base_uri": "https://localhost:8080/"
        },
        "id": "fwhPAKRbcoj-",
        "outputId": "6d93e8c9-2854-4d6f-f3d0-bb9f8da21cf6"
      },
      "source": [
        "print(np.argmax(aa,axis=1))\n",
        "print(np.argmin(aa,axis=0))"
      ],
      "execution_count": 40,
      "outputs": [
        {
          "output_type": "stream",
          "text": [
            "[0 2 1]\n",
            "[2 1 0]\n"
          ],
          "name": "stdout"
        }
      ]
    },
    {
      "cell_type": "code",
      "metadata": {
        "colab": {
          "base_uri": "https://localhost:8080/"
        },
        "id": "zWc4Pce0dXNU",
        "outputId": "66b66a68-43b1-4c22-c8ec-79dbac8a27ef"
      },
      "source": [
        "r = np.random.normal(5,5,size=(3,3))\n",
        "print(r)"
      ],
      "execution_count": 47,
      "outputs": [
        {
          "output_type": "stream",
          "text": [
            "[[ 6.13272622 -3.92339226 12.2607805 ]\n",
            " [16.75271383  1.93122768  7.80183237]\n",
            " [ 4.85015014  5.80267134 -3.159439  ]]\n"
          ],
          "name": "stdout"
        }
      ]
    },
    {
      "cell_type": "code",
      "metadata": {
        "colab": {
          "base_uri": "https://localhost:8080/"
        },
        "id": "_vTmmB3Ze7zD",
        "outputId": "ad66d461-79b8-440f-d492-5a42450f4f51"
      },
      "source": [
        "ar = np.linspace(1,100)\n",
        "print(ar)"
      ],
      "execution_count": 50,
      "outputs": [
        {
          "output_type": "stream",
          "text": [
            "[  1.           3.02040816   5.04081633   7.06122449   9.08163265\n",
            "  11.10204082  13.12244898  15.14285714  17.16326531  19.18367347\n",
            "  21.20408163  23.2244898   25.24489796  27.26530612  29.28571429\n",
            "  31.30612245  33.32653061  35.34693878  37.36734694  39.3877551\n",
            "  41.40816327  43.42857143  45.44897959  47.46938776  49.48979592\n",
            "  51.51020408  53.53061224  55.55102041  57.57142857  59.59183673\n",
            "  61.6122449   63.63265306  65.65306122  67.67346939  69.69387755\n",
            "  71.71428571  73.73469388  75.75510204  77.7755102   79.79591837\n",
            "  81.81632653  83.83673469  85.85714286  87.87755102  89.89795918\n",
            "  91.91836735  93.93877551  95.95918367  97.97959184 100.        ]\n",
            "[  1.           3.02040816   5.04081633   7.06122449   9.08163265\n",
            "  11.10204082  13.12244898  15.14285714  17.16326531  19.18367347\n",
            "  21.20408163  23.2244898   25.24489796  27.26530612  29.28571429\n",
            "  31.30612245  33.32653061  35.34693878  37.36734694  39.3877551\n",
            "  41.40816327  43.42857143  45.44897959  47.46938776  49.48979592\n",
            "  51.51020408  53.53061224  55.55102041  57.57142857  59.59183673\n",
            "  61.6122449   63.63265306  65.65306122  67.67346939  69.69387755\n",
            "  71.71428571  73.73469388  75.75510204  77.7755102   79.79591837\n",
            "  81.81632653  83.83673469  85.85714286  87.87755102  89.89795918\n",
            "  91.91836735  93.93877551  95.95918367  97.97959184 100.        ]\n"
          ],
          "name": "stdout"
        }
      ]
    }
  ]
}